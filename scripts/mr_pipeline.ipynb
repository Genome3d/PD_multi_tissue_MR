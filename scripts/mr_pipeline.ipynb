{
 "cells": [
  {
   "cell_type": "code",
   "execution_count": 3,
   "id": "aeeb78bc-29f6-453b-86d8-ea089f89d78b",
   "metadata": {
    "editable": true,
    "slideshow": {
     "slide_type": ""
    },
    "tags": []
   },
   "outputs": [],
   "source": [
    "library(pacman)\n",
    "p_load(tidyverse, data.table, ieugwasr, forestploter, grid)\n",
    "p_load_gh(\"MRCIEU/TwoSampleMR\")\n",
    "setwd(\"/mnt/projects/users/sgok603/pd_mr/scripts/\")"
   ]
  },
  {
   "cell_type": "markdown",
   "id": "b85e2567-e972-4a36-a62e-a1c11a6a2640",
   "metadata": {},
   "source": [
    "## Declare functions"
   ]
  },
  {
   "cell_type": "code",
   "execution_count": 4,
   "id": "7e2ee45a-9a1c-44bb-a3ee-6e5d429006ee",
   "metadata": {},
   "outputs": [],
   "source": [
    "## read tissue GRN\n",
    "read_tissue_map <- function(dir) {\n",
    "    #dir <- \"../../../../tissue_maps/Brain_Cortex/\"\n",
    "    res <- tibble()\n",
    "    cortex_map <- file.path(list.files(dir, \n",
    "                            pattern = \"significant_eqtls.txt\", \n",
    "                            recursive = TRUE,\n",
    "                            full.names = TRUE))\n",
    "    res <- res %>%\n",
    "            bind_rows(\n",
    "                read_tsv(cortex_map, show_col_types = FALSE)) %>% \n",
    "            dplyr::select(snp, beta, beta_se, alt, ref, maf, eqtl_pval, \n",
    "                          gene, interaction_type) %>% \n",
    "            distinct()\n",
    "} \n",
    "\n",
    "# create directory if not exists\n",
    "create_dir <- function(fp){\n",
    "    if (!dir.exists(fp)){\n",
    "        dir.create(fp)\n",
    "    }\n",
    "    fp\n",
    "    }\n",
    "\n",
    "# create output file to write the results\n",
    "create_file_ifnot_exists <- function(out_fp, grn){\n",
    "    #grn <- str_replace_all(grn, c(\"'\" = \"\", \" \" = \"_\"))\n",
    "    \n",
    "    if (!dir.exists(out_fp)){\n",
    "        dir.create(out_fp)\n",
    "    }\n",
    "    fp <- file.path(out_fp, paste0(grn, \"_data_for_exposure.txt\"))\n",
    "    return(fp)\n",
    "}\n",
    "\n",
    "## prepare data for running MR\n",
    "## 1. Prepare exposure data\n",
    "prepare_exposure_data <- function(eqtl_file, fp){\n",
    "    if (!dir.exists(fp)){\n",
    "        dir.create(fp)\n",
    "    }\n",
    "    exposure_df <- read_exposure_data(\n",
    "                        filename = file.path(eqtl_file),\n",
    "                        sep = \"\\t\",\n",
    "                        snp_col = \"snp\",\n",
    "                        beta_col = \"beta\",\n",
    "                        se_col = \"beta_se\",\n",
    "                        effect_allele_col = \"alt\",\n",
    "                        other_allele_col = \"ref\",\n",
    "                        eaf_col = \"maf\",\n",
    "                        pval_col = \"eqtl_pval\",\n",
    "                        phenotype_col = \"gene\") %>% \n",
    "                   distinct() %>% \n",
    "                   write_tsv(file.path(fp, \"exposure_df.txt\"))\n",
    "}\n",
    "\n",
    "## 2. Clump SNPs in the exposure dataset\n",
    "# run locally \n",
    "\n",
    "## 3. Extract outcome data\n",
    "extract_outcome <- function(exposure_df, gwas, fp){\n",
    "    outcome_df <- extract_outcome_data(\n",
    "                        snps = exposure_df$SNP,\n",
    "                        outcomes = gwas,\n",
    "                        proxies = TRUE,\n",
    "                        rsq = 0.9) %>%  \n",
    "                  distinct() %>% \n",
    "                  write_tsv(file.path(fp, \"outcome_df.txt\"))\n",
    "}    \n",
    "\n",
    "## 4. Harmonize exposure outcome effects\n",
    "harmonise_expo_outcome <- function(exposure_df, outcome_df, fp) {\n",
    "    harmonised_df <- harmonise_data(\n",
    "                        exposure_dat = exposure_df, \n",
    "                        outcome_dat = outcome_df) %>% \n",
    "                     filter(!mr_keep == \"FALSE\") %>% # Remove SNPs that failed harmonisation\n",
    "                     distinct() %>%\n",
    "                     write_tsv(file.path(fp, \"harmonised_eo_df.txt\")) # using only one gwas study for outcome so power pruning is not required \n",
    "}\n",
    "\n",
    "## 5. Perform MR\n",
    "## Performs the analysis multiple times for each exposure-outcome combination - each time using a different single SNP to perform the analysis\n",
    "\n",
    "perform_singlesnp_mr_single <- function(df, method = NULL) {\n",
    "    if (!is.null(method)) {\n",
    "        res <- mr_singlesnp(df, single_method = method)\n",
    "    }\n",
    "    else {\n",
    "        res <- mr_singlesnp(df)\n",
    "    }            \n",
    "}"
   ]
  },
  {
   "cell_type": "markdown",
   "id": "ff4be675-5730-47f2-91cb-1925b3a69e59",
   "metadata": {},
   "source": [
    "## Prepare exposure data"
   ]
  },
  {
   "cell_type": "code",
   "execution_count": null,
   "id": "72663181-af31-4dc9-9ad5-b5a6065888f1",
   "metadata": {},
   "outputs": [],
   "source": [
    "## analysis are conducted with PD SNPs\n",
    "## tissue map directory\n",
    "\n",
    "blood_map_dir <- \"/mnt/projects/tissue_maps/Whole_Blood/\"\n",
    "blood_grn_eqtl_info <- read_tissue_map(blood_map_dir) %>% \n",
    "                dplyr::select(snp, beta, beta_se, alt, ref, maf, eqtl_pval, gene) %>% \n",
    "                filter(eqtl_pval < 1*10^-5) %>% \n",
    "                distinct() %>% \n",
    "                write_tsv(create_file_ifnot_exists(\"../data/blood\", \"blood\"))\n",
    "\n",
    "out_file_path <- '../data/blood'\n",
    "exposure_data <- prepare_exposure_data(\n",
    "                    '../data/blood/blood_data_for_exposure.txt',\n",
    "                    out_file_path\n",
    "                    )"
   ]
  },
  {
   "cell_type": "markdown",
   "id": "378f553d-be37-4006-b941-3ac9f43e8ad8",
   "metadata": {},
   "source": [
    "### clump exposure SNPs"
   ]
  },
  {
   "cell_type": "raw",
   "id": "57e142ac-a4e5-421d-bd2d-49aff4e1ac03",
   "metadata": {},
   "source": [
    "Ran \"clump_exposure.R\" script locally on terminal as it takes longer to complete"
   ]
  },
  {
   "cell_type": "code",
   "execution_count": 6,
   "id": "40ea9324-800c-4960-9478-7de2904271f2",
   "metadata": {},
   "outputs": [
    {
     "name": "stdout",
     "output_type": "stream",
     "text": [
      "[1] 9705\n",
      "[1] 9090\n"
     ]
    },
    {
     "data": {
      "text/html": [
       "<table class=\"dataframe\">\n",
       "<caption>A tibble: 6 × 12</caption>\n",
       "<thead>\n",
       "\t<tr><th scope=col>SNP</th><th scope=col>pval.exposure</th><th scope=col>id.exposure</th><th scope=col>beta.exposure</th><th scope=col>se.exposure</th><th scope=col>effect_allele.exposure</th><th scope=col>other_allele.exposure</th><th scope=col>eaf.exposure</th><th scope=col>exposure</th><th scope=col>mr_keep.exposure</th><th scope=col>pval_origin.exposure</th><th scope=col>data_source.exposure</th></tr>\n",
       "\t<tr><th scope=col>&lt;chr&gt;</th><th scope=col>&lt;dbl&gt;</th><th scope=col>&lt;chr&gt;</th><th scope=col>&lt;dbl&gt;</th><th scope=col>&lt;dbl&gt;</th><th scope=col>&lt;chr&gt;</th><th scope=col>&lt;chr&gt;</th><th scope=col>&lt;dbl&gt;</th><th scope=col>&lt;chr&gt;</th><th scope=col>&lt;lgl&gt;</th><th scope=col>&lt;chr&gt;</th><th scope=col>&lt;chr&gt;</th></tr>\n",
       "</thead>\n",
       "<tbody>\n",
       "\t<tr><td>rs1265960  </td><td>7.865976e-19</td><td>gWrbl7</td><td> 0.4918905</td><td>0.05367653</td><td>A</td><td>G</td><td>0.09850746</td><td>A1BG    </td><td>TRUE</td><td>reported</td><td>textfile</td></tr>\n",
       "\t<tr><td>rs893183   </td><td>3.224893e-22</td><td>O5DX1i</td><td> 0.6291434</td><td>0.06235464</td><td>C</td><td>T</td><td>0.06567162</td><td>A1BG-AS1</td><td>TRUE</td><td>reported</td><td>textfile</td></tr>\n",
       "\t<tr><td>rs11554674 </td><td>9.967745e-45</td><td>Ms0JNF</td><td> 0.4910317</td><td>0.03215065</td><td>A</td><td>G</td><td>0.20895523</td><td>A3GALT2 </td><td>TRUE</td><td>reported</td><td>textfile</td></tr>\n",
       "\t<tr><td>rs28992176 </td><td>1.409971e-52</td><td>NmlnpV</td><td> 0.7424393</td><td>0.04399376</td><td>G</td><td>A</td><td>0.12462687</td><td>A4GALT  </td><td>TRUE</td><td>reported</td><td>textfile</td></tr>\n",
       "\t<tr><td>rs12600847 </td><td>8.823841e-26</td><td>Ha80Ha</td><td>-0.3885843</td><td>0.03531311</td><td>T</td><td>C</td><td>0.35373133</td><td>AANAT   </td><td>TRUE</td><td>reported</td><td>textfile</td></tr>\n",
       "\t<tr><td>rs116732850</td><td>5.534471e-13</td><td>rFuJaA</td><td>-0.2061192</td><td>0.02795294</td><td>G</td><td>C</td><td>0.06343284</td><td>AAR2    </td><td>TRUE</td><td>reported</td><td>textfile</td></tr>\n",
       "</tbody>\n",
       "</table>\n"
      ],
      "text/latex": [
       "A tibble: 6 × 12\n",
       "\\begin{tabular}{llllllllllll}\n",
       " SNP & pval.exposure & id.exposure & beta.exposure & se.exposure & effect\\_allele.exposure & other\\_allele.exposure & eaf.exposure & exposure & mr\\_keep.exposure & pval\\_origin.exposure & data\\_source.exposure\\\\\n",
       " <chr> & <dbl> & <chr> & <dbl> & <dbl> & <chr> & <chr> & <dbl> & <chr> & <lgl> & <chr> & <chr>\\\\\n",
       "\\hline\n",
       "\t rs1265960   & 7.865976e-19 & gWrbl7 &  0.4918905 & 0.05367653 & A & G & 0.09850746 & A1BG     & TRUE & reported & textfile\\\\\n",
       "\t rs893183    & 3.224893e-22 & O5DX1i &  0.6291434 & 0.06235464 & C & T & 0.06567162 & A1BG-AS1 & TRUE & reported & textfile\\\\\n",
       "\t rs11554674  & 9.967745e-45 & Ms0JNF &  0.4910317 & 0.03215065 & A & G & 0.20895523 & A3GALT2  & TRUE & reported & textfile\\\\\n",
       "\t rs28992176  & 1.409971e-52 & NmlnpV &  0.7424393 & 0.04399376 & G & A & 0.12462687 & A4GALT   & TRUE & reported & textfile\\\\\n",
       "\t rs12600847  & 8.823841e-26 & Ha80Ha & -0.3885843 & 0.03531311 & T & C & 0.35373133 & AANAT    & TRUE & reported & textfile\\\\\n",
       "\t rs116732850 & 5.534471e-13 & rFuJaA & -0.2061192 & 0.02795294 & G & C & 0.06343284 & AAR2     & TRUE & reported & textfile\\\\\n",
       "\\end{tabular}\n"
      ],
      "text/markdown": [
       "\n",
       "A tibble: 6 × 12\n",
       "\n",
       "| SNP &lt;chr&gt; | pval.exposure &lt;dbl&gt; | id.exposure &lt;chr&gt; | beta.exposure &lt;dbl&gt; | se.exposure &lt;dbl&gt; | effect_allele.exposure &lt;chr&gt; | other_allele.exposure &lt;chr&gt; | eaf.exposure &lt;dbl&gt; | exposure &lt;chr&gt; | mr_keep.exposure &lt;lgl&gt; | pval_origin.exposure &lt;chr&gt; | data_source.exposure &lt;chr&gt; |\n",
       "|---|---|---|---|---|---|---|---|---|---|---|---|\n",
       "| rs1265960   | 7.865976e-19 | gWrbl7 |  0.4918905 | 0.05367653 | A | G | 0.09850746 | A1BG     | TRUE | reported | textfile |\n",
       "| rs893183    | 3.224893e-22 | O5DX1i |  0.6291434 | 0.06235464 | C | T | 0.06567162 | A1BG-AS1 | TRUE | reported | textfile |\n",
       "| rs11554674  | 9.967745e-45 | Ms0JNF |  0.4910317 | 0.03215065 | A | G | 0.20895523 | A3GALT2  | TRUE | reported | textfile |\n",
       "| rs28992176  | 1.409971e-52 | NmlnpV |  0.7424393 | 0.04399376 | G | A | 0.12462687 | A4GALT   | TRUE | reported | textfile |\n",
       "| rs12600847  | 8.823841e-26 | Ha80Ha | -0.3885843 | 0.03531311 | T | C | 0.35373133 | AANAT    | TRUE | reported | textfile |\n",
       "| rs116732850 | 5.534471e-13 | rFuJaA | -0.2061192 | 0.02795294 | G | C | 0.06343284 | AAR2     | TRUE | reported | textfile |\n",
       "\n"
      ],
      "text/plain": [
       "  SNP         pval.exposure id.exposure beta.exposure se.exposure\n",
       "1 rs1265960   7.865976e-19  gWrbl7       0.4918905    0.05367653 \n",
       "2 rs893183    3.224893e-22  O5DX1i       0.6291434    0.06235464 \n",
       "3 rs11554674  9.967745e-45  Ms0JNF       0.4910317    0.03215065 \n",
       "4 rs28992176  1.409971e-52  NmlnpV       0.7424393    0.04399376 \n",
       "5 rs12600847  8.823841e-26  Ha80Ha      -0.3885843    0.03531311 \n",
       "6 rs116732850 5.534471e-13  rFuJaA      -0.2061192    0.02795294 \n",
       "  effect_allele.exposure other_allele.exposure eaf.exposure exposure\n",
       "1 A                      G                     0.09850746   A1BG    \n",
       "2 C                      T                     0.06567162   A1BG-AS1\n",
       "3 A                      G                     0.20895523   A3GALT2 \n",
       "4 G                      A                     0.12462687   A4GALT  \n",
       "5 T                      C                     0.35373133   AANAT   \n",
       "6 G                      C                     0.06343284   AAR2    \n",
       "  mr_keep.exposure pval_origin.exposure data_source.exposure\n",
       "1 TRUE             reported             textfile            \n",
       "2 TRUE             reported             textfile            \n",
       "3 TRUE             reported             textfile            \n",
       "4 TRUE             reported             textfile            \n",
       "5 TRUE             reported             textfile            \n",
       "6 TRUE             reported             textfile            "
      ]
     },
     "metadata": {},
     "output_type": "display_data"
    }
   ],
   "source": [
    "exposure_clumped <- read_tsv(\"../data/blood/blood_grn_ld_clumped.txt\",\n",
    "                            show_col_types=FALSE) %>% \n",
    "print(length(unique(exposure_clumped$SNP))) # 9706\n",
    "print(length(unique(exposure_clumped$exposure))) # 9091\n",
    "head(exposure_clumped)"
   ]
  },
  {
   "cell_type": "markdown",
   "id": "592663a5-6292-45ff-893c-c25de8a33050",
   "metadata": {},
   "source": [
    "### extract outcome data"
   ]
  },
  {
   "cell_type": "code",
   "execution_count": 7,
   "id": "63ba9510-2363-4b83-86ea-fa213818f36d",
   "metadata": {},
   "outputs": [
    {
     "name": "stderr",
     "output_type": "stream",
     "text": [
      "Extracting data for 9705 SNP(s) from 1 GWAS(s)\n",
      "\n",
      "Finding proxies for 1444 SNPs in outcome ieu-b-7\n",
      "\n",
      "Extracting data for 1444 SNP(s) from 1 GWAS(s)\n",
      "\n",
      "1 of 1 outcomes\n",
      "\n",
      " [>] 1 of 3 chunks\n",
      "\n",
      " [>] 2 of 3 chunks\n",
      "\n",
      " [>] 3 of 3 chunks\n",
      "\n"
     ]
    },
    {
     "data": {
      "text/html": [
       "9106"
      ],
      "text/latex": [
       "9106"
      ],
      "text/markdown": [
       "9106"
      ],
      "text/plain": [
       "[1] 9106"
      ]
     },
     "metadata": {},
     "output_type": "display_data"
    },
    {
     "data": {
      "text/html": [
       "<table class=\"dataframe\">\n",
       "<caption>A data.frame: 6 × 23</caption>\n",
       "<thead>\n",
       "\t<tr><th></th><th scope=col>SNP</th><th scope=col>chr</th><th scope=col>pos</th><th scope=col>beta.outcome</th><th scope=col>se.outcome</th><th scope=col>samplesize.outcome</th><th scope=col>pval.outcome</th><th scope=col>eaf.outcome</th><th scope=col>effect_allele.outcome</th><th scope=col>other_allele.outcome</th><th scope=col>⋯</th><th scope=col>outcome.deprecated</th><th scope=col>mr_keep.outcome</th><th scope=col>data_source.outcome</th><th scope=col>proxy.outcome</th><th scope=col>target_snp.outcome</th><th scope=col>proxy_snp.outcome</th><th scope=col>target_a1.outcome</th><th scope=col>target_a2.outcome</th><th scope=col>proxy_a1.outcome</th><th scope=col>proxy_a2.outcome</th></tr>\n",
       "\t<tr><th></th><th scope=col>&lt;chr&gt;</th><th scope=col>&lt;chr&gt;</th><th scope=col>&lt;chr&gt;</th><th scope=col>&lt;dbl&gt;</th><th scope=col>&lt;dbl&gt;</th><th scope=col>&lt;dbl&gt;</th><th scope=col>&lt;dbl&gt;</th><th scope=col>&lt;dbl&gt;</th><th scope=col>&lt;chr&gt;</th><th scope=col>&lt;chr&gt;</th><th scope=col>⋯</th><th scope=col>&lt;chr&gt;</th><th scope=col>&lt;lgl&gt;</th><th scope=col>&lt;chr&gt;</th><th scope=col>&lt;lgl&gt;</th><th scope=col>&lt;chr&gt;</th><th scope=col>&lt;chr&gt;</th><th scope=col>&lt;chr&gt;</th><th scope=col>&lt;chr&gt;</th><th scope=col>&lt;chr&gt;</th><th scope=col>&lt;chr&gt;</th></tr>\n",
       "</thead>\n",
       "<tbody>\n",
       "\t<tr><th scope=row>1</th><td>rs10937106</td><td>3</td><td>182738287</td><td> 0.1109</td><td>0.0190</td><td>482730</td><td>0.000000005</td><td>0.7153</td><td>A</td><td>G</td><td>⋯</td><td>Parkinson's disease ||  || </td><td>TRUE</td><td>igd</td><td>NA</td><td>NA</td><td>NA</td><td>NA</td><td>NA</td><td>NA</td><td>NA</td></tr>\n",
       "\t<tr><th scope=row>2</th><td>rs11711420</td><td>3</td><td>183349010</td><td> 0.0260</td><td>0.0194</td><td>482730</td><td>0.181400000</td><td>0.2660</td><td>G</td><td>T</td><td>⋯</td><td>Parkinson's disease ||  || </td><td>TRUE</td><td>igd</td><td>NA</td><td>NA</td><td>NA</td><td>NA</td><td>NA</td><td>NA</td><td>NA</td></tr>\n",
       "\t<tr><th scope=row>3</th><td>rs8478    </td><td>3</td><td>183899832</td><td>-0.0106</td><td>0.0215</td><td>482730</td><td>0.622801000</td><td>0.1904</td><td>T</td><td>C</td><td>⋯</td><td>Parkinson's disease ||  || </td><td>TRUE</td><td>igd</td><td>NA</td><td>NA</td><td>NA</td><td>NA</td><td>NA</td><td>NA</td><td>NA</td></tr>\n",
       "\t<tr><th scope=row>4</th><td>rs843336  </td><td>3</td><td>183912339</td><td>-0.0124</td><td>0.0175</td><td>482730</td><td>0.478900000</td><td>0.5216</td><td>G</td><td>A</td><td>⋯</td><td>Parkinson's disease ||  || </td><td>TRUE</td><td>igd</td><td>NA</td><td>NA</td><td>NA</td><td>NA</td><td>NA</td><td>NA</td><td>NA</td></tr>\n",
       "\t<tr><th scope=row>5</th><td>rs1981767 </td><td>3</td><td>186649103</td><td> 0.0129</td><td>0.0242</td><td>471013</td><td>0.594700000</td><td>0.2879</td><td>A</td><td>G</td><td>⋯</td><td>Parkinson's disease ||  || </td><td>TRUE</td><td>igd</td><td>NA</td><td>NA</td><td>NA</td><td>NA</td><td>NA</td><td>NA</td><td>NA</td></tr>\n",
       "\t<tr><th scope=row>6</th><td>rs13315299</td><td>3</td><td>192805621</td><td> 0.0378</td><td>0.0270</td><td>466555</td><td>0.162100000</td><td>0.2669</td><td>T</td><td>C</td><td>⋯</td><td>Parkinson's disease ||  || </td><td>TRUE</td><td>igd</td><td>NA</td><td>NA</td><td>NA</td><td>NA</td><td>NA</td><td>NA</td><td>NA</td></tr>\n",
       "</tbody>\n",
       "</table>\n"
      ],
      "text/latex": [
       "A data.frame: 6 × 23\n",
       "\\begin{tabular}{r|lllllllllllllllllllll}\n",
       "  & SNP & chr & pos & beta.outcome & se.outcome & samplesize.outcome & pval.outcome & eaf.outcome & effect\\_allele.outcome & other\\_allele.outcome & ⋯ & outcome.deprecated & mr\\_keep.outcome & data\\_source.outcome & proxy.outcome & target\\_snp.outcome & proxy\\_snp.outcome & target\\_a1.outcome & target\\_a2.outcome & proxy\\_a1.outcome & proxy\\_a2.outcome\\\\\n",
       "  & <chr> & <chr> & <chr> & <dbl> & <dbl> & <dbl> & <dbl> & <dbl> & <chr> & <chr> & ⋯ & <chr> & <lgl> & <chr> & <lgl> & <chr> & <chr> & <chr> & <chr> & <chr> & <chr>\\\\\n",
       "\\hline\n",
       "\t1 & rs10937106 & 3 & 182738287 &  0.1109 & 0.0190 & 482730 & 0.000000005 & 0.7153 & A & G & ⋯ & Parkinson's disease \\textbar{}\\textbar{}  \\textbar{}\\textbar{}  & TRUE & igd & NA & NA & NA & NA & NA & NA & NA\\\\\n",
       "\t2 & rs11711420 & 3 & 183349010 &  0.0260 & 0.0194 & 482730 & 0.181400000 & 0.2660 & G & T & ⋯ & Parkinson's disease \\textbar{}\\textbar{}  \\textbar{}\\textbar{}  & TRUE & igd & NA & NA & NA & NA & NA & NA & NA\\\\\n",
       "\t3 & rs8478     & 3 & 183899832 & -0.0106 & 0.0215 & 482730 & 0.622801000 & 0.1904 & T & C & ⋯ & Parkinson's disease \\textbar{}\\textbar{}  \\textbar{}\\textbar{}  & TRUE & igd & NA & NA & NA & NA & NA & NA & NA\\\\\n",
       "\t4 & rs843336   & 3 & 183912339 & -0.0124 & 0.0175 & 482730 & 0.478900000 & 0.5216 & G & A & ⋯ & Parkinson's disease \\textbar{}\\textbar{}  \\textbar{}\\textbar{}  & TRUE & igd & NA & NA & NA & NA & NA & NA & NA\\\\\n",
       "\t5 & rs1981767  & 3 & 186649103 &  0.0129 & 0.0242 & 471013 & 0.594700000 & 0.2879 & A & G & ⋯ & Parkinson's disease \\textbar{}\\textbar{}  \\textbar{}\\textbar{}  & TRUE & igd & NA & NA & NA & NA & NA & NA & NA\\\\\n",
       "\t6 & rs13315299 & 3 & 192805621 &  0.0378 & 0.0270 & 466555 & 0.162100000 & 0.2669 & T & C & ⋯ & Parkinson's disease \\textbar{}\\textbar{}  \\textbar{}\\textbar{}  & TRUE & igd & NA & NA & NA & NA & NA & NA & NA\\\\\n",
       "\\end{tabular}\n"
      ],
      "text/markdown": [
       "\n",
       "A data.frame: 6 × 23\n",
       "\n",
       "| <!--/--> | SNP &lt;chr&gt; | chr &lt;chr&gt; | pos &lt;chr&gt; | beta.outcome &lt;dbl&gt; | se.outcome &lt;dbl&gt; | samplesize.outcome &lt;dbl&gt; | pval.outcome &lt;dbl&gt; | eaf.outcome &lt;dbl&gt; | effect_allele.outcome &lt;chr&gt; | other_allele.outcome &lt;chr&gt; | ⋯ ⋯ | outcome.deprecated &lt;chr&gt; | mr_keep.outcome &lt;lgl&gt; | data_source.outcome &lt;chr&gt; | proxy.outcome &lt;lgl&gt; | target_snp.outcome &lt;chr&gt; | proxy_snp.outcome &lt;chr&gt; | target_a1.outcome &lt;chr&gt; | target_a2.outcome &lt;chr&gt; | proxy_a1.outcome &lt;chr&gt; | proxy_a2.outcome &lt;chr&gt; |\n",
       "|---|---|---|---|---|---|---|---|---|---|---|---|---|---|---|---|---|---|---|---|---|---|\n",
       "| 1 | rs10937106 | 3 | 182738287 |  0.1109 | 0.0190 | 482730 | 0.000000005 | 0.7153 | A | G | ⋯ | Parkinson's disease ||  ||  | TRUE | igd | NA | NA | NA | NA | NA | NA | NA |\n",
       "| 2 | rs11711420 | 3 | 183349010 |  0.0260 | 0.0194 | 482730 | 0.181400000 | 0.2660 | G | T | ⋯ | Parkinson's disease ||  ||  | TRUE | igd | NA | NA | NA | NA | NA | NA | NA |\n",
       "| 3 | rs8478     | 3 | 183899832 | -0.0106 | 0.0215 | 482730 | 0.622801000 | 0.1904 | T | C | ⋯ | Parkinson's disease ||  ||  | TRUE | igd | NA | NA | NA | NA | NA | NA | NA |\n",
       "| 4 | rs843336   | 3 | 183912339 | -0.0124 | 0.0175 | 482730 | 0.478900000 | 0.5216 | G | A | ⋯ | Parkinson's disease ||  ||  | TRUE | igd | NA | NA | NA | NA | NA | NA | NA |\n",
       "| 5 | rs1981767  | 3 | 186649103 |  0.0129 | 0.0242 | 471013 | 0.594700000 | 0.2879 | A | G | ⋯ | Parkinson's disease ||  ||  | TRUE | igd | NA | NA | NA | NA | NA | NA | NA |\n",
       "| 6 | rs13315299 | 3 | 192805621 |  0.0378 | 0.0270 | 466555 | 0.162100000 | 0.2669 | T | C | ⋯ | Parkinson's disease ||  ||  | TRUE | igd | NA | NA | NA | NA | NA | NA | NA |\n",
       "\n"
      ],
      "text/plain": [
       "  SNP        chr pos       beta.outcome se.outcome samplesize.outcome\n",
       "1 rs10937106 3   182738287  0.1109      0.0190     482730            \n",
       "2 rs11711420 3   183349010  0.0260      0.0194     482730            \n",
       "3 rs8478     3   183899832 -0.0106      0.0215     482730            \n",
       "4 rs843336   3   183912339 -0.0124      0.0175     482730            \n",
       "5 rs1981767  3   186649103  0.0129      0.0242     471013            \n",
       "6 rs13315299 3   192805621  0.0378      0.0270     466555            \n",
       "  pval.outcome eaf.outcome effect_allele.outcome other_allele.outcome ⋯\n",
       "1 0.000000005  0.7153      A                     G                    ⋯\n",
       "2 0.181400000  0.2660      G                     T                    ⋯\n",
       "3 0.622801000  0.1904      T                     C                    ⋯\n",
       "4 0.478900000  0.5216      G                     A                    ⋯\n",
       "5 0.594700000  0.2879      A                     G                    ⋯\n",
       "6 0.162100000  0.2669      T                     C                    ⋯\n",
       "  outcome.deprecated          mr_keep.outcome data_source.outcome proxy.outcome\n",
       "1 Parkinson's disease ||  ||  TRUE            igd                 NA           \n",
       "2 Parkinson's disease ||  ||  TRUE            igd                 NA           \n",
       "3 Parkinson's disease ||  ||  TRUE            igd                 NA           \n",
       "4 Parkinson's disease ||  ||  TRUE            igd                 NA           \n",
       "5 Parkinson's disease ||  ||  TRUE            igd                 NA           \n",
       "6 Parkinson's disease ||  ||  TRUE            igd                 NA           \n",
       "  target_snp.outcome proxy_snp.outcome target_a1.outcome target_a2.outcome\n",
       "1 NA                 NA                NA                NA               \n",
       "2 NA                 NA                NA                NA               \n",
       "3 NA                 NA                NA                NA               \n",
       "4 NA                 NA                NA                NA               \n",
       "5 NA                 NA                NA                NA               \n",
       "6 NA                 NA                NA                NA               \n",
       "  proxy_a1.outcome proxy_a2.outcome\n",
       "1 NA               NA              \n",
       "2 NA               NA              \n",
       "3 NA               NA              \n",
       "4 NA               NA              \n",
       "5 NA               NA              \n",
       "6 NA               NA              "
      ]
     },
     "metadata": {},
     "output_type": "display_data"
    }
   ],
   "source": [
    "out_file_path <- '../data/blood/'\n",
    "outcome_data <- extract_outcome(exposure_clumped, 'ieu-b-7', out_file_path)\n",
    "length(unique(outcome_data$SNP)) #9394 --> 9106\n",
    "head(outcome_data)"
   ]
  },
  {
   "cell_type": "code",
   "execution_count": 10,
   "id": "3a76c54c-3a13-4ce7-a03a-9038aea1311d",
   "metadata": {},
   "outputs": [
    {
     "data": {
      "text/html": [
       "<style>\n",
       ".list-inline {list-style: none; margin:0; padding: 0}\n",
       ".list-inline>li {display: inline-block}\n",
       ".list-inline>li:not(:last-child)::after {content: \"\\00b7\"; padding: 0 .5ex}\n",
       "</style>\n",
       "<ol class=list-inline><li>'SNP'</li><li>'chr'</li><li>'pos'</li><li>'beta.outcome'</li><li>'se.outcome'</li><li>'samplesize.outcome'</li><li>'pval.outcome'</li><li>'eaf.outcome'</li><li>'effect_allele.outcome'</li><li>'other_allele.outcome'</li><li>'outcome'</li><li>'id.outcome'</li><li>'originalname.outcome'</li><li>'outcome.deprecated'</li><li>'mr_keep.outcome'</li><li>'data_source.outcome'</li><li>'proxy.outcome'</li><li>'target_snp.outcome'</li><li>'proxy_snp.outcome'</li><li>'target_a1.outcome'</li><li>'target_a2.outcome'</li><li>'proxy_a1.outcome'</li><li>'proxy_a2.outcome'</li></ol>\n"
      ],
      "text/latex": [
       "\\begin{enumerate*}\n",
       "\\item 'SNP'\n",
       "\\item 'chr'\n",
       "\\item 'pos'\n",
       "\\item 'beta.outcome'\n",
       "\\item 'se.outcome'\n",
       "\\item 'samplesize.outcome'\n",
       "\\item 'pval.outcome'\n",
       "\\item 'eaf.outcome'\n",
       "\\item 'effect\\_allele.outcome'\n",
       "\\item 'other\\_allele.outcome'\n",
       "\\item 'outcome'\n",
       "\\item 'id.outcome'\n",
       "\\item 'originalname.outcome'\n",
       "\\item 'outcome.deprecated'\n",
       "\\item 'mr\\_keep.outcome'\n",
       "\\item 'data\\_source.outcome'\n",
       "\\item 'proxy.outcome'\n",
       "\\item 'target\\_snp.outcome'\n",
       "\\item 'proxy\\_snp.outcome'\n",
       "\\item 'target\\_a1.outcome'\n",
       "\\item 'target\\_a2.outcome'\n",
       "\\item 'proxy\\_a1.outcome'\n",
       "\\item 'proxy\\_a2.outcome'\n",
       "\\end{enumerate*}\n"
      ],
      "text/markdown": [
       "1. 'SNP'\n",
       "2. 'chr'\n",
       "3. 'pos'\n",
       "4. 'beta.outcome'\n",
       "5. 'se.outcome'\n",
       "6. 'samplesize.outcome'\n",
       "7. 'pval.outcome'\n",
       "8. 'eaf.outcome'\n",
       "9. 'effect_allele.outcome'\n",
       "10. 'other_allele.outcome'\n",
       "11. 'outcome'\n",
       "12. 'id.outcome'\n",
       "13. 'originalname.outcome'\n",
       "14. 'outcome.deprecated'\n",
       "15. 'mr_keep.outcome'\n",
       "16. 'data_source.outcome'\n",
       "17. 'proxy.outcome'\n",
       "18. 'target_snp.outcome'\n",
       "19. 'proxy_snp.outcome'\n",
       "20. 'target_a1.outcome'\n",
       "21. 'target_a2.outcome'\n",
       "22. 'proxy_a1.outcome'\n",
       "23. 'proxy_a2.outcome'\n",
       "\n",
       "\n"
      ],
      "text/plain": [
       " [1] \"SNP\"                   \"chr\"                   \"pos\"                  \n",
       " [4] \"beta.outcome\"          \"se.outcome\"            \"samplesize.outcome\"   \n",
       " [7] \"pval.outcome\"          \"eaf.outcome\"           \"effect_allele.outcome\"\n",
       "[10] \"other_allele.outcome\"  \"outcome\"               \"id.outcome\"           \n",
       "[13] \"originalname.outcome\"  \"outcome.deprecated\"    \"mr_keep.outcome\"      \n",
       "[16] \"data_source.outcome\"   \"proxy.outcome\"         \"target_snp.outcome\"   \n",
       "[19] \"proxy_snp.outcome\"     \"target_a1.outcome\"     \"target_a2.outcome\"    \n",
       "[22] \"proxy_a1.outcome\"      \"proxy_a2.outcome\"     "
      ]
     },
     "metadata": {},
     "output_type": "display_data"
    }
   ],
   "source": [
    "colnames(outcome_data)"
   ]
  },
  {
   "cell_type": "markdown",
   "id": "2dcf3e92-ce0a-46cf-9190-d831f747f809",
   "metadata": {},
   "source": [
    "### harmonise exposure/outcome data"
   ]
  },
  {
   "cell_type": "code",
   "execution_count": 10,
   "id": "57f69042-9406-4eb9-8d89-b42cbfb88edc",
   "metadata": {
    "tags": []
   },
   "outputs": [
    {
     "data": {
      "text/html": [
       "8791"
      ],
      "text/latex": [
       "8791"
      ],
      "text/markdown": [
       "8791"
      ],
      "text/plain": [
       "[1] 8791"
      ]
     },
     "metadata": {},
     "output_type": "display_data"
    },
    {
     "data": {
      "text/html": [
       "8305"
      ],
      "text/latex": [
       "8305"
      ],
      "text/markdown": [
       "8305"
      ],
      "text/plain": [
       "[1] 8305"
      ]
     },
     "metadata": {},
     "output_type": "display_data"
    }
   ],
   "source": [
    "out_file_path <- '../data/blood/'\n",
    "# harmonised_df <- harmonise_expo_outcome(exposure_clumped, outcome_data, out_file_path)\n",
    "length(unique(harmonised_df$SNP)) # 8791\n",
    "length(unique(harmonised_df$exposure)) # 8305"
   ]
  },
  {
   "cell_type": "markdown",
   "id": "42b2912c-7e02-43cc-9252-8b9fdd5c824b",
   "metadata": {},
   "source": [
    "### mr input data"
   ]
  },
  {
   "cell_type": "code",
   "execution_count": 13,
   "id": "a5635c27-ec70-4299-87fd-76e8275f53fd",
   "metadata": {},
   "outputs": [
    {
     "data": {
      "text/html": [
       "8305"
      ],
      "text/latex": [
       "8305"
      ],
      "text/markdown": [
       "8305"
      ],
      "text/plain": [
       "[1] 8305"
      ]
     },
     "metadata": {},
     "output_type": "display_data"
    },
    {
     "data": {
      "text/html": [
       "8791"
      ],
      "text/latex": [
       "8791"
      ],
      "text/markdown": [
       "8791"
      ],
      "text/plain": [
       "[1] 8791"
      ]
     },
     "metadata": {},
     "output_type": "display_data"
    }
   ],
   "source": [
    "mr_input_data <- read_tsv(\"../data/blood/harmonised_eo_df.txt\",\n",
    "                         show_col_types = FALSE) \n",
    "length(unique(mr_input_data$exposure))\n",
    "length(unique(mr_input_data$SNP))"
   ]
  },
  {
   "cell_type": "markdown",
   "id": "74250ae2-6e95-4686-8f56-6315d424daa5",
   "metadata": {},
   "source": [
    "#### separate exposure with single and multiple instruments"
   ]
  },
  {
   "cell_type": "code",
   "execution_count": 14,
   "id": "9e2a6b1e-4a05-4418-8d59-61cbec947ba7",
   "metadata": {
    "tags": []
   },
   "outputs": [
    {
     "data": {
      "text/html": [
       "7543"
      ],
      "text/latex": [
       "7543"
      ],
      "text/markdown": [
       "7543"
      ],
      "text/plain": [
       "[1] 7543"
      ]
     },
     "metadata": {},
     "output_type": "display_data"
    },
    {
     "data": {
      "text/html": [
       "7543"
      ],
      "text/latex": [
       "7543"
      ],
      "text/markdown": [
       "7543"
      ],
      "text/plain": [
       "[1] 7543"
      ]
     },
     "metadata": {},
     "output_type": "display_data"
    },
    {
     "data": {
      "text/html": [
       "762"
      ],
      "text/latex": [
       "762"
      ],
      "text/markdown": [
       "762"
      ],
      "text/plain": [
       "[1] 762"
      ]
     },
     "metadata": {},
     "output_type": "display_data"
    },
    {
     "data": {
      "text/html": [
       "762"
      ],
      "text/latex": [
       "762"
      ],
      "text/markdown": [
       "762"
      ],
      "text/plain": [
       "[1] 762"
      ]
     },
     "metadata": {},
     "output_type": "display_data"
    }
   ],
   "source": [
    "# exposure with single SNP instrument\n",
    "single_snp_exposures <- mr_input_data %>% \n",
    "                group_by(exposure) %>% \n",
    "                summarise(instruments = length(SNP)) %>% \n",
    "                filter(instruments == 1)\n",
    "\n",
    "nrow(single_snp_exposures) #7543\n",
    "length(unique(single_snp_exposures$exposure)) #7543\n",
    "\n",
    "# exposure with multiple SNP instruments\n",
    "multiple_snp_exposures <- mr_input_data %>% \n",
    "                group_by(exposure) %>% \n",
    "                summarise(instruments = length(SNP)) %>% \n",
    "                filter(instruments > 1)\n",
    "nrow(multiple_snp_exposures) #762\n",
    "length(unique(multiple_snp_exposures$exposure)) #762\n"
   ]
  },
  {
   "cell_type": "markdown",
   "id": "ee4fecce-94d4-4a32-a177-cf52ef722e20",
   "metadata": {},
   "source": [
    "#### perform sensitivity analysis for exposures with multiple snp instruments"
   ]
  },
  {
   "cell_type": "code",
   "execution_count": 15,
   "id": "f1044ea0-bb96-4be2-be9a-f38185d43995",
   "metadata": {
    "tags": []
   },
   "outputs": [
    {
     "data": {
      "text/html": [
       "713"
      ],
      "text/latex": [
       "713"
      ],
      "text/markdown": [
       "713"
      ],
      "text/plain": [
       "[1] 713"
      ]
     },
     "metadata": {},
     "output_type": "display_data"
    },
    {
     "data": {
      "text/html": [
       "58"
      ],
      "text/latex": [
       "58"
      ],
      "text/markdown": [
       "58"
      ],
      "text/plain": [
       "[1] 58"
      ]
     },
     "metadata": {},
     "output_type": "display_data"
    }
   ],
   "source": [
    "## do sensitivity analysis (remove Q_pval < 0.05)\n",
    "hetero_test_passed <- mr_heterogeneity(mr_input_data %>% \n",
    "                                filter(exposure %in% multiple_snp_exposures$exposure) %>% \n",
    "                                distinct()) %>% \n",
    "                        filter(!Q_pval < 0.05)\n",
    "length(unique(hetero_test_passed$exposure)) #713\n",
    "# hetero_test_passed\n",
    "\n",
    "## do horizontal pleiotropy test (remove p-val > 0.05 or NA)\n",
    "pleiotropy_test_passed <- mr_pleiotropy_test(mr_input_data %>% \n",
    "                                filter(exposure %in% multiple_snp_exposures$exposure) %>% \n",
    "                                distinct()) %>% \n",
    "                         filter(!pval == \"NA\" | pval > 0.05) \n",
    "length(unique(pleiotropy_test_passed$exposure)) #58\n",
    "# pleiotropy_test_passed"
   ]
  },
  {
   "cell_type": "code",
   "execution_count": 16,
   "id": "194fae70-f652-4e96-97b7-63af500f36dc",
   "metadata": {},
   "outputs": [],
   "source": [
    "# exposures that have no horizontal pleotropic effect and heterogeneity from the above tests\n",
    "exposures_for_ivw <- hetero_test_passed %>% \n",
    "                    distinct(exposure) %>% \n",
    "                    inner_join(pleiotropy_test_passed %>% \n",
    "                              distinct(exposure), by = \"exposure\")"
   ]
  },
  {
   "cell_type": "markdown",
   "id": "f731437c-3bec-4e96-8eef-040ff4fbb809",
   "metadata": {},
   "source": [
    "### perform wald ratio MR analysis"
   ]
  },
  {
   "cell_type": "code",
   "execution_count": 17,
   "id": "4f79146f-f9d0-472c-8509-db29e54f78ba",
   "metadata": {
    "tags": []
   },
   "outputs": [],
   "source": [
    "## perform MR for exposure with single instrument\n",
    "mr_input_data_wald <- mr_input_data %>% \n",
    "                        filter(exposure %in% single_snp_exposures$exposure) %>% \n",
    "                        distinct()\n",
    " \n",
    "wald_mr_res <- perform_singlesnp_mr_single(mr_input_data_wald, \"mr_wald_ratio\") #%>% \n",
    "                # write_tsv(\"../data/blood/blood_grn_full_mr_res_wald.txt\")"
   ]
  },
  {
   "cell_type": "markdown",
   "id": "5b44c7f1-681f-48ad-9e41-707fdd83214b",
   "metadata": {},
   "source": [
    "### generate odds ratios for MR results"
   ]
  },
  {
   "cell_type": "code",
   "execution_count": 18,
   "id": "94b5c078-bbed-4b38-8544-f3a97d4fd363",
   "metadata": {
    "tags": []
   },
   "outputs": [],
   "source": [
    "wald_mr_res <- read_tsv(\"../data/blood/blood_grn_full_mr_res_wald.txt\",\n",
    "                       show_col_types = FALSE)\n",
    "\n",
    "\n",
    "## Perform MR strong effects\n",
    "wald_mr_res_strong <- wald_mr_res %>% \n",
    "                        filter(!is.na(p)) %>% \n",
    "                        generate_odds_ratios() %>% \n",
    "                        filter(p < 0.05/n_distinct(exposure)) #%>% \n",
    "                        # write_tsv(\"../results/blood/blood_grn_wald_strong.txt\")\n",
    "\n",
    "## Perform MR suggestive effects\n",
    "wald_mr_res_sugg <- wald_mr_res %>% \n",
    "                        filter(!is.na(p)) %>%\n",
    "                        generate_odds_ratios() %>%\n",
    "                        filter(p > 0.05/n_distinct(exposure) & p < 0.05) #%>% \n",
    "                        # write_tsv(\"../results/blood/blood_grn_wald_sugg.txt\")"
   ]
  },
  {
   "cell_type": "markdown",
   "id": "f3a61a14-a320-4fe8-935b-838dd00cff8d",
   "metadata": {},
   "source": [
    "### perform ivw (inverse variance weighted) MR analysis"
   ]
  },
  {
   "cell_type": "code",
   "execution_count": 19,
   "id": "44bf61c4-0e28-4d54-b011-943a1161f30d",
   "metadata": {
    "tags": []
   },
   "outputs": [],
   "source": [
    "## perform MR for exposure with multiple instruments\n",
    "mr_input_data_ivw <- mr_input_data %>% \n",
    "                        filter(exposure %in% exposures_for_ivw$exposure) %>% \n",
    "                        distinct() \n",
    "\n",
    "# Perform MR strong effects IVW\n",
    "mr_res_ivr_strong <- perform_singlesnp_mr_single(mr_input_data_ivw, \"mr_ivw\") %>% \n",
    "                        filter(!is.na(p) & !SNP == \"All - MR Egger\") %>% \n",
    "                        generate_odds_ratios() %>% \n",
    "                        filter(p < 0.05/n_distinct(exposure)) %>% \n",
    "                        distinct() \n",
    "\n",
    "mr_res_ivr_strong_with_snps <- mr_res_ivr_strong %>% \n",
    "    select(-SNP) %>% \n",
    "    inner_join(mr_input_data_ivw %>% \n",
    "              select(SNP, exposure) %>% \n",
    "              distinct(), by = \"exposure\") %>% \n",
    "    group_by(exposure) %>% \n",
    "    mutate(snp = paste0(unique(SNP), collapse = \",\")) %>% \n",
    "    select(-SNP) %>% \n",
    "    distinct()# %>% \n",
    "    # write_tsv(\"../results/blood/blood_grn_ivw_strong.txt\")\n",
    "\n",
    "# ## Perform MR suggestive effects IVW\n",
    "mr_res_ivr_sugg <- perform_singlesnp_mr_single(mr_input_data_ivw, \"mr_ivw\") %>% \n",
    "                        filter(!is.na(p) & !SNP == \"All - MR Egger\") %>% \n",
    "                        generate_odds_ratios() %>% \n",
    "                        filter(p > 0.05/n_distinct(exposure) & p < 0.05) %>% \n",
    "                        distinct()\n",
    "\n",
    "mr_res_ivr_sugg_with_snps <- mr_res_ivr_sugg %>% \n",
    "    select(-SNP) %>% \n",
    "    inner_join(mr_input_data_ivw %>% \n",
    "              select(SNP, exposure) %>% \n",
    "              distinct(), by = \"exposure\") %>% \n",
    "    group_by(exposure) %>% \n",
    "    mutate(snp = paste0(unique(SNP), collapse = \",\")) %>% \n",
    "    select(-SNP) %>% \n",
    "    distinct() #%>% \n",
    "    # write_tsv(\"../results/blood/blood_grn_ivw_sugg.txt\")"
   ]
  }
 ],
 "metadata": {
  "kernelspec": {
   "display_name": "R",
   "language": "R",
   "name": "ir"
  },
  "language_info": {
   "codemirror_mode": "r",
   "file_extension": ".r",
   "mimetype": "text/x-r-source",
   "name": "R",
   "pygments_lexer": "r",
   "version": "4.2.3"
  }
 },
 "nbformat": 4,
 "nbformat_minor": 5
}
